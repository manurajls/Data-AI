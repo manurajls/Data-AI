{
 "cells": [
  {
   "cell_type": "code",
   "execution_count": 1,
   "metadata": {},
   "outputs": [],
   "source": [
    "import numpy as np\n",
    "import tensorflow as tf\n",
    "from tensorflow import keras"
   ]
  },
  {
   "cell_type": "code",
   "execution_count": 5,
   "metadata": {},
   "outputs": [],
   "source": [
    "from sklearn.datasets import fetch_california_housing\n",
    "housing = fetch_california_housing()\n",
    "\n",
    "from sklearn.model_selection import train_test_split\n",
    "\n",
    "X_train_full, X_test, y_train_full, y_test = train_test_split(\n",
    "    housing.data, housing.target.reshape(-1, 1), random_state=42)\n",
    "\n",
    "X_train, X_valid, y_train, y_valid = train_test_split(\n",
    "    X_train_full, y_train_full, random_state=42)\n",
    "\n",
    "from sklearn.preprocessing import StandardScaler\n",
    "\n",
    "scaler = StandardScaler()\n",
    "X_train_scaled = scaler.fit_transform(X_train)\n",
    "X_valid_scaled = scaler.transform(X_valid)\n",
    "X_test_scaled = scaler.transform(X_test)"
   ]
  },
  {
   "cell_type": "code",
   "execution_count": 14,
   "metadata": {},
   "outputs": [],
   "source": [
    " def huber_fn(y_true, y_pred):\n",
    "        error = y_true - y_pred\n",
    "        is_small_error = tf.abs(error) < 1\n",
    "        squared_loss = tf.square(error) / 2\n",
    "        linear_loss  = tf.abs(error) - 0.5\n",
    "        return tf.where(is_small_error, squared_loss, linear_loss)"
   ]
  },
  {
   "cell_type": "code",
   "execution_count": 17,
   "metadata": {},
   "outputs": [],
   "source": [
    "model = keras.models.Sequential([\n",
    "    keras.layers.Dense(30, activation=\"selu\", kernel_initializer=\"lecun_normal\",\n",
    "                   input_shape=X_train.shape[1:]),\n",
    "    keras.layers.Dense(1),\n",
    "])\n",
    "\n",
    "model.compile(loss=huber_fn, optimizer=\"nadam\", metrics=[\"mae\"])"
   ]
  },
  {
   "cell_type": "code",
   "execution_count": 20,
   "metadata": {},
   "outputs": [
    {
     "name": "stdout",
     "output_type": "stream",
     "text": [
      "Epoch 1/15\n",
      "363/363 [==============================] - 2s 2ms/step - loss: 0.7287 - mae: 1.0862 - val_loss: 0.2789 - val_mae: 0.5836\n",
      "Epoch 2/15\n",
      "363/363 [==============================] - 1s 2ms/step - loss: 0.2124 - mae: 0.5094 - val_loss: 0.2257 - val_mae: 0.5137\n",
      "Epoch 3/15\n",
      "363/363 [==============================] - 1s 2ms/step - loss: 0.1998 - mae: 0.4897 - val_loss: 0.1892 - val_mae: 0.4701\n",
      "Epoch 4/15\n",
      "363/363 [==============================] - 1s 2ms/step - loss: 0.1940 - mae: 0.4811 - val_loss: 0.1843 - val_mae: 0.4615\n",
      "Epoch 5/15\n",
      "363/363 [==============================] - 1s 2ms/step - loss: 0.1902 - mae: 0.4741 - val_loss: 0.1799 - val_mae: 0.4553\n",
      "Epoch 6/15\n",
      "363/363 [==============================] - 1s 2ms/step - loss: 0.1883 - mae: 0.4718 - val_loss: 0.1795 - val_mae: 0.4577\n",
      "Epoch 7/15\n",
      "363/363 [==============================] - 1s 2ms/step - loss: 0.1855 - mae: 0.4668 - val_loss: 0.1753 - val_mae: 0.4507\n",
      "Epoch 8/15\n",
      "363/363 [==============================] - 1s 2ms/step - loss: 0.1825 - mae: 0.4615 - val_loss: 0.1901 - val_mae: 0.4601\n",
      "Epoch 9/15\n",
      "363/363 [==============================] - 1s 2ms/step - loss: 0.1811 - mae: 0.4586 - val_loss: 0.1731 - val_mae: 0.4462\n",
      "Epoch 10/15\n",
      "363/363 [==============================] - 1s 2ms/step - loss: 0.1778 - mae: 0.4533 - val_loss: 0.1688 - val_mae: 0.4355\n",
      "Epoch 11/15\n",
      "363/363 [==============================] - 1s 2ms/step - loss: 0.1754 - mae: 0.4500 - val_loss: 0.1633 - val_mae: 0.4321\n",
      "Epoch 12/15\n",
      "363/363 [==============================] - 1s 2ms/step - loss: 0.1729 - mae: 0.4445 - val_loss: 0.1653 - val_mae: 0.4363\n",
      "Epoch 13/15\n",
      "363/363 [==============================] - 1s 2ms/step - loss: 0.1712 - mae: 0.4419 - val_loss: 0.1608 - val_mae: 0.4264\n",
      "Epoch 14/15\n",
      "363/363 [==============================] - 1s 2ms/step - loss: 0.1689 - mae: 0.4378 - val_loss: 0.1807 - val_mae: 0.4464\n",
      "Epoch 15/15\n",
      "363/363 [==============================] - 1s 2ms/step - loss: 0.1681 - mae: 0.4367 - val_loss: 0.1647 - val_mae: 0.4292\n"
     ]
    },
    {
     "data": {
      "text/plain": [
       "<keras.callbacks.History at 0x7f2cf5feaba8>"
      ]
     },
     "execution_count": 20,
     "metadata": {},
     "output_type": "execute_result"
    }
   ],
   "source": [
    "model.fit(X_train_scaled, y_train, epochs=15,\n",
    "      validation_data=(X_valid_scaled, y_valid))"
   ]
  },
  {
   "cell_type": "code",
   "execution_count": 21,
   "metadata": {},
   "outputs": [
    {
     "name": "stdout",
     "output_type": "stream",
     "text": [
      "162/162 [==============================] - 0s 1ms/step - loss: 0.1668 - mae: 0.4361\n"
     ]
    },
    {
     "data": {
      "text/plain": [
       "[0.16677846014499664, 0.43612033128738403]"
      ]
     },
     "execution_count": 21,
     "metadata": {},
     "output_type": "execute_result"
    }
   ],
   "source": [
    "model.evaluate(X_test_scaled, y_test)"
   ]
  },
  {
   "cell_type": "code",
   "execution_count": null,
   "metadata": {},
   "outputs": [],
   "source": []
  }
 ],
 "metadata": {
  "kernelspec": {
   "display_name": "tensorflow2",
   "language": "python",
   "name": "tensorflow2"
  },
  "language_info": {
   "codemirror_mode": {
    "name": "ipython",
    "version": 3
   },
   "file_extension": ".py",
   "mimetype": "text/x-python",
   "name": "python",
   "nbconvert_exporter": "python",
   "pygments_lexer": "ipython3",
   "version": "3.6.8"
  },
  "toc": {
   "base_numbering": 1,
   "nav_menu": {},
   "number_sections": true,
   "sideBar": true,
   "skip_h1_title": false,
   "title_cell": "Table of Contents",
   "title_sidebar": "Contents",
   "toc_cell": false,
   "toc_position": {},
   "toc_section_display": true,
   "toc_window_display": false
  }
 },
 "nbformat": 4,
 "nbformat_minor": 2
}
